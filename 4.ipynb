{
 "cells": [
  {
   "cell_type": "code",
   "execution_count": 12,
   "id": "54275577",
   "metadata": {},
   "outputs": [
    {
     "name": "stdout",
     "output_type": "stream",
     "text": [
      "[4, 2, 2, 2]\n"
     ]
    }
   ],
   "source": [
    "class TreeNode:\n",
    "    def __init__(self, val=0, left=None, right=None):\n",
    "        self.val = val\n",
    "        self.left = left\n",
    "        self.right = right\n",
    "\n",
    "def constructTree(s):\n",
    "    if not s:\n",
    "        return None\n",
    "\n",
    "    opening_parenthesis = s.find('(')\n",
    "    if opening_parenthesis == -1:\n",
    "        return TreeNode(int(s))\n",
    "\n",
    "    value_str = s[:opening_parenthesis]\n",
    "    if not value_str.isdigit():\n",
    "        return None\n",
    "\n",
    "    value = int(value_str)\n",
    "    root = TreeNode(value)\n",
    "\n",
    "    left_start = opening_parenthesis + 1\n",
    "    left_end = findMatchingClosingParenthesis(s, left_start)\n",
    "    root.left = constructTree(s[left_start:left_end])\n",
    "\n",
    "    if left_end < len(s) - 1:\n",
    "        right_start = left_end + 1\n",
    "        right_end = len(s) - 1\n",
    "        root.right = constructTree(s[right_start:right_end])\n",
    "\n",
    "    return root\n",
    "\n",
    "def findMatchingClosingParenthesis(s, opening_index):\n",
    "    count = 0\n",
    "    for i in range(opening_index, len(s)):\n",
    "        if s[i] == '(':\n",
    "            count += 1\n",
    "        elif s[i] == ')':\n",
    "            count -= 1\n",
    "            if count == 0:\n",
    "                return i\n",
    "    return -1\n",
    "\n",
    "def preorderTraversal(root):\n",
    "    result = []\n",
    "    if root:\n",
    "        result.append(root.val)\n",
    "        result += preorderTraversal(root.left)\n",
    "        result += preorderTraversal(root.right)\n",
    "    return result\n",
    "s = \"4(2(3)(1))(6(5))\"\n",
    "tree = constructTree(s)\n",
    "result = preorderTraversal(tree)\n",
    "print(result)  "
   ]
  },
  {
   "cell_type": "code",
   "execution_count": null,
   "id": "9503f245",
   "metadata": {},
   "outputs": [],
   "source": []
  },
  {
   "cell_type": "code",
   "execution_count": null,
   "id": "2ac30bbc",
   "metadata": {},
   "outputs": [],
   "source": []
  }
 ],
 "metadata": {
  "kernelspec": {
   "display_name": "Python 3 (ipykernel)",
   "language": "python",
   "name": "python3"
  },
  "language_info": {
   "codemirror_mode": {
    "name": "ipython",
    "version": 3
   },
   "file_extension": ".py",
   "mimetype": "text/x-python",
   "name": "python",
   "nbconvert_exporter": "python",
   "pygments_lexer": "ipython3",
   "version": "3.10.9"
  }
 },
 "nbformat": 4,
 "nbformat_minor": 5
}
