{
 "cells": [
  {
   "cell_type": "code",
   "execution_count": 1,
   "id": "1b733090",
   "metadata": {},
   "outputs": [
    {
     "name": "stdout",
     "output_type": "stream",
     "text": [
      "[0, 6]\n"
     ]
    }
   ],
   "source": [
    "from collections import defaultdict\n",
    "\n",
    "def findAnagrams(s, p):\n",
    "    result = []\n",
    "    target_freq = defaultdict(int)\n",
    "    window_freq = defaultdict(int)\n",
    "    \n",
    "    for char in p:\n",
    "        target_freq[char] += 1\n",
    "    \n",
    "    left = right = 0\n",
    "    while right < len(s):\n",
    "        window_freq[s[right]] += 1\n",
    "        \n",
    "        if right - left + 1 > len(p):\n",
    "            window_freq[s[left]] -= 1\n",
    "            if window_freq[s[left]] == 0:\n",
    "                del window_freq[s[left]]\n",
    "            left += 1\n",
    "        \n",
    "        if window_freq == target_freq:\n",
    "            result.append(left)\n",
    "        \n",
    "        right += 1\n",
    "    \n",
    "    return result\n",
    "s = \"cbaebabacd\"\n",
    "p = \"abc\"\n",
    "indices = findAnagrams(s, p)\n",
    "print(indices)  # Output: [0, 6]\n"
   ]
  },
  {
   "cell_type": "code",
   "execution_count": null,
   "id": "8218a2f2",
   "metadata": {},
   "outputs": [],
   "source": []
  }
 ],
 "metadata": {
  "kernelspec": {
   "display_name": "Python 3 (ipykernel)",
   "language": "python",
   "name": "python3"
  },
  "language_info": {
   "codemirror_mode": {
    "name": "ipython",
    "version": 3
   },
   "file_extension": ".py",
   "mimetype": "text/x-python",
   "name": "python",
   "nbconvert_exporter": "python",
   "pygments_lexer": "ipython3",
   "version": "3.10.9"
  }
 },
 "nbformat": 4,
 "nbformat_minor": 5
}
