{
 "cells": [
  {
   "cell_type": "code",
   "execution_count": 8,
   "id": "3e87e6d3",
   "metadata": {},
   "outputs": [
    {
     "name": "stdout",
     "output_type": "stream",
     "text": [
      "aaacbcb\n"
     ]
    }
   ],
   "source": [
    "def decodeString(s):\n",
    "    stack = []\n",
    "    \n",
    "    for c in s:\n",
    "        if c == ']':\n",
    "            substring = ''\n",
    "            \n",
    "            while stack[-1] != '[':\n",
    "                substring += stack.pop()\n",
    "            \n",
    "            stack.pop()  # Pop the opening square bracket '['\n",
    "            \n",
    "            k = ''\n",
    "            while stack and stack[-1].isdigit():\n",
    "                k += stack.pop()\n",
    "            \n",
    "            k = int(k[::-1])  # Reverse and convert k to an integer\n",
    "            \n",
    "            stack.append(substring[::-1] * k)  # Reverse the substring and repeat it k times\n",
    "        else:\n",
    "            stack.append(c)\n",
    "    \n",
    "    decoded_string = ''\n",
    "    while stack:\n",
    "        decoded_string += stack.pop()\n",
    "    \n",
    "    return decoded_string[::-1]  # Reverse the decoded string and return it\n",
    "s = \"3[a]2[bc]\"\n",
    "decoded = decodeString(s)\n",
    "print(decoded)  # Output: \"aaabcbc\"\n"
   ]
  },
  {
   "cell_type": "code",
   "execution_count": null,
   "id": "8751a820",
   "metadata": {},
   "outputs": [],
   "source": []
  }
 ],
 "metadata": {
  "kernelspec": {
   "display_name": "Python 3 (ipykernel)",
   "language": "python",
   "name": "python3"
  },
  "language_info": {
   "codemirror_mode": {
    "name": "ipython",
    "version": 3
   },
   "file_extension": ".py",
   "mimetype": "text/x-python",
   "name": "python",
   "nbconvert_exporter": "python",
   "pygments_lexer": "ipython3",
   "version": "3.10.9"
  }
 },
 "nbformat": 4,
 "nbformat_minor": 5
}
